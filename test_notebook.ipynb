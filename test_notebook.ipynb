{
 "metadata": {
  "language_info": {
   "codemirror_mode": {
    "name": "ipython",
    "version": 3
   },
   "file_extension": ".py",
   "mimetype": "text/x-python",
   "name": "python",
   "nbconvert_exporter": "python",
   "pygments_lexer": "ipython3",
   "version": "3.9.1"
  },
  "orig_nbformat": 2,
  "kernelspec": {
   "name": "python3",
   "display_name": "Python 3.9.1 64-bit",
   "metadata": {
    "interpreter": {
     "hash": "aee8b7b246df8f9039afb4144a1f6fd8d2ca17a180786b69acc140d282b71a49"
    }
   }
  }
 },
 "nbformat": 4,
 "nbformat_minor": 2,
 "cells": [
  {
   "cell_type": "code",
   "execution_count": 2,
   "metadata": {},
   "outputs": [
    {
     "output_type": "stream",
     "name": "stdout",
     "text": [
      "pygame 2.0.1 (SDL 2.0.14, Python 3.9.1)\nHello from the pygame community. https://www.pygame.org/contribute.html\n"
     ]
    }
   ],
   "source": [
    "import pygame as pg\n",
    "from pygame import Surface\n",
    "from settings import *"
   ]
  },
  {
   "source": [
    "I want to create all the screens needed for my game\n",
    "The following screens are needed:\n",
    "* Welcome screen\n",
    "* Select screen with options\n",
    "    1. Play\n",
    "    2. Settings\n",
    "    3. Exit\n",
    "\n",
    "I Also need a way for animating the transition between the screens\n",
    "\n"
   ],
   "cell_type": "markdown",
   "metadata": {}
  },
  {
   "cell_type": "code",
   "execution_count": 4,
   "metadata": {},
   "outputs": [],
   "source": [
    "    def draw_text(self, text: str, size: int, color: tuple, x: int, y: int, surface:Surface):\n",
    "        font = pg.font.Font(pg.font.match_font(FONT_ARIAL), size)\n",
    "        text_surface = font.render(text, True, color)\n",
    "        text_rect = text_surface.get_rect()\n",
    "        text_rect.midtop = (x,y)\n",
    "        surface.blit(text_surface, text_rect)"
   ]
  },
  {
   "cell_type": "code",
   "execution_count": null,
   "metadata": {},
   "outputs": [],
   "source": [
    "#Welcome Screen for the game\n",
    "welcome_screen = pg.Surface((WIDTH,HEIGHT))\n",
    "draw_text(text=\"Text\", size=16, color=WHITE, x=10, y=10, surface=welcome_screen)\n"
   ]
  },
  {
   "cell_type": "code",
   "execution_count": null,
   "metadata": {},
   "outputs": [],
   "source": []
  }
 ]
}