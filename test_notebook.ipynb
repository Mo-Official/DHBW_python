{
 "metadata": {
  "language_info": {
   "codemirror_mode": {
    "name": "ipython",
    "version": 3
   },
   "file_extension": ".py",
   "mimetype": "text/x-python",
   "name": "python",
   "nbconvert_exporter": "python",
   "pygments_lexer": "ipython3",
   "version": "3.9.1"
  },
  "orig_nbformat": 2,
  "kernelspec": {
   "name": "python3",
   "display_name": "Python 3.9.1 64-bit",
   "metadata": {
    "interpreter": {
     "hash": "aee8b7b246df8f9039afb4144a1f6fd8d2ca17a180786b69acc140d282b71a49"
    }
   }
  }
 },
 "nbformat": 4,
 "nbformat_minor": 2,
 "cells": [
  {
   "cell_type": "code",
   "execution_count": 1,
   "metadata": {},
   "outputs": [
    {
     "output_type": "stream",
     "name": "stdout",
     "text": [
      "/Users/fyayc/Documents/GitHub/Mo-Official/DHBW_python/assets/healthdrop_spritesheet.xml\n"
     ]
    }
   ],
   "source": [
    "import xml.etree.ElementTree as ET\n",
    "import os\n",
    "from settings import *\n",
    "\n",
    "XML_PATH  = os.path.join(ASSETS_PATH, \"healthdrop_spritesheet.xml\")\n"
   ]
  },
  {
   "cell_type": "code",
   "execution_count": 4,
   "metadata": {},
   "outputs": [
    {
     "output_type": "stream",
     "name": "stdout",
     "text": [
      "Help on ElementTree in module xml.etree.ElementTree object:\n\nclass ElementTree(builtins.object)\n |  ElementTree(element=None, file=None)\n |  \n |  An XML element hierarchy.\n |  \n |  This class also provides support for serialization to and from\n |  standard XML.\n |  \n |  *element* is an optional root element node,\n |  *file* is an optional file handle or file name of an XML file whose\n |  contents will be used to initialize the tree with.\n |  \n |  Methods defined here:\n |  \n |  __init__(self, element=None, file=None)\n |      Initialize self.  See help(type(self)) for accurate signature.\n |  \n |  find(self, path, namespaces=None)\n |      Find first matching element by tag name or path.\n |      \n |      Same as getroot().find(path), which is Element.find()\n |      \n |      *path* is a string having either an element tag or an XPath,\n |      *namespaces* is an optional mapping from namespace prefix to full name.\n |      \n |      Return the first matching element, or None if no element was found.\n |  \n |  findall(self, path, namespaces=None)\n |      Find all matching subelements by tag name or path.\n |      \n |      Same as getroot().findall(path), which is Element.findall().\n |      \n |      *path* is a string having either an element tag or an XPath,\n |      *namespaces* is an optional mapping from namespace prefix to full name.\n |      \n |      Return list containing all matching elements in document order.\n |  \n |  findtext(self, path, default=None, namespaces=None)\n |      Find first matching element by tag name or path.\n |      \n |      Same as getroot().findtext(path),  which is Element.findtext()\n |      \n |      *path* is a string having either an element tag or an XPath,\n |      *namespaces* is an optional mapping from namespace prefix to full name.\n |      \n |      Return the first matching element, or None if no element was found.\n |  \n |  getroot(self)\n |      Return root element of this tree.\n |  \n |  iter(self, tag=None)\n |      Create and return tree iterator for the root element.\n |      \n |      The iterator loops over all elements in this tree, in document order.\n |      \n |      *tag* is a string with the tag name to iterate over\n |      (default is to return all elements).\n |  \n |  iterfind(self, path, namespaces=None)\n |      Find all matching subelements by tag name or path.\n |      \n |      Same as getroot().iterfind(path), which is element.iterfind()\n |      \n |      *path* is a string having either an element tag or an XPath,\n |      *namespaces* is an optional mapping from namespace prefix to full name.\n |      \n |      Return an iterable yielding all matching elements in document order.\n |  \n |  parse(self, source, parser=None)\n |      Load external XML document into element tree.\n |      \n |      *source* is a file name or file object, *parser* is an optional parser\n |      instance that defaults to XMLParser.\n |      \n |      ParseError is raised if the parser fails to parse the document.\n |      \n |      Returns the root element of the given source document.\n |  \n |  write(self, file_or_filename, encoding=None, xml_declaration=None, default_namespace=None, method=None, *, short_empty_elements=True)\n |      Write element tree to a file as XML.\n |      \n |      Arguments:\n |        *file_or_filename* -- file name or a file object opened for writing\n |      \n |        *encoding* -- the output encoding (default: US-ASCII)\n |      \n |        *xml_declaration* -- bool indicating if an XML declaration should be\n |                             added to the output. If None, an XML declaration\n |                             is added if encoding IS NOT either of:\n |                             US-ASCII, UTF-8, or Unicode\n |      \n |        *default_namespace* -- sets the default XML namespace (for \"xmlns\")\n |      \n |        *method* -- either \"xml\" (default), \"html, \"text\", or \"c14n\"\n |      \n |        *short_empty_elements* -- controls the formatting of elements\n |                                  that contain no content. If True (default)\n |                                  they are emitted as a single self-closed\n |                                  tag, otherwise they are emitted as a pair\n |                                  of start/end tags\n |  \n |  write_c14n(self, file)\n |  \n |  ----------------------------------------------------------------------\n |  Data descriptors defined here:\n |  \n |  __dict__\n |      dictionary for instance variables (if defined)\n |  \n |  __weakref__\n |      list of weak references to the object (if defined)\n\n"
     ]
    }
   ],
   "source": [
    "data = ET.parse(XML_PATH)\n",
    "help(data)"
   ]
  },
  {
   "cell_type": "code",
   "execution_count": 8,
   "metadata": {},
   "outputs": [
    {
     "output_type": "stream",
     "name": "stdout",
     "text": [
      "Help on Element object:\n\nclass Element(builtins.object)\n |  Methods defined here:\n |  \n |  __copy__(self, /)\n |  \n |  __deepcopy__(self, memo, /)\n |  \n |  __delitem__(self, key, /)\n |      Delete self[key].\n |  \n |  __getattribute__(self, name, /)\n |      Return getattr(self, name).\n |  \n |  __getitem__(self, key, /)\n |      Return self[key].\n |  \n |  __getstate__(self, /)\n |  \n |  __init__(self, /, *args, **kwargs)\n |      Initialize self.  See help(type(self)) for accurate signature.\n |  \n |  __len__(self, /)\n |      Return len(self).\n |  \n |  __repr__(self, /)\n |      Return repr(self).\n |  \n |  __setitem__(self, key, value, /)\n |      Set self[key] to value.\n |  \n |  __setstate__(self, state, /)\n |  \n |  __sizeof__(self, /)\n |      Size of object in memory, in bytes.\n |  \n |  append(self, subelement, /)\n |  \n |  clear(self, /)\n |  \n |  extend(self, elements, /)\n |  \n |  find(self, /, path, namespaces=None)\n |  \n |  findall(self, /, path, namespaces=None)\n |  \n |  findtext(self, /, path, default=None, namespaces=None)\n |  \n |  get(self, /, key, default=None)\n |  \n |  insert(self, index, subelement, /)\n |  \n |  items(self, /)\n |  \n |  iter(self, /, tag=None)\n |  \n |  iterfind(self, /, path, namespaces=None)\n |  \n |  itertext(self, /)\n |  \n |  keys(self, /)\n |  \n |  makeelement(self, tag, attrib, /)\n |  \n |  remove(self, subelement, /)\n |  \n |  set(self, key, value, /)\n |  \n |  ----------------------------------------------------------------------\n |  Static methods defined here:\n |  \n |  __new__(*args, **kwargs) from builtins.type\n |      Create and return a new object.  See help(type) for accurate signature.\n |  \n |  ----------------------------------------------------------------------\n |  Data descriptors defined here:\n |  \n |  attrib\n |      A dictionary containing the element's attributes\n |  \n |  tag\n |      A string identifying what kind of data this element represents\n |  \n |  tail\n |      A string of text directly after the end tag, or None\n |  \n |  text\n |      A string of text directly after the start tag, or None\n\n"
     ]
    }
   ],
   "source": [
    "help(data.findall(\"sprite\")[0])"
   ]
  },
  {
   "cell_type": "code",
   "execution_count": 14,
   "metadata": {},
   "outputs": [
    {
     "output_type": "execute_result",
     "data": {
      "text/plain": [
       "'0'"
      ]
     },
     "metadata": {},
     "execution_count": 14
    }
   ],
   "source": [
    "data.findall(\"sprite\")[0].get(\"x\")"
   ]
  },
  {
   "cell_type": "code",
   "execution_count": 17,
   "metadata": {},
   "outputs": [],
   "source": [
    "def load_sprites(xmldata):\n",
    "    sprites = xmldata.findall(\"sprite\")\n",
    "    sprites_list = []\n",
    "    for sprite in sprites:\n",
    "        spriteinfo = (int(sprite.get(\"x\")), int(sprite.get(\"y\")), int(sprite.get(\"w\")), int(sprite.get(\"h\")))\n",
    "        sprites_list.append(spriteinfo)\n",
    "    return sprites_list"
   ]
  },
  {
   "cell_type": "code",
   "execution_count": 18,
   "metadata": {},
   "outputs": [
    {
     "output_type": "execute_result",
     "data": {
      "text/plain": [
       "[(0, 0, 100, 100),\n",
       " (100, 0, 100, 100),\n",
       " (200, 0, 100, 100),\n",
       " (300, 0, 100, 100),\n",
       " (400, 0, 100, 100),\n",
       " (0, 100, 100, 100),\n",
       " (100, 100, 100, 100),\n",
       " (200, 100, 100, 100),\n",
       " (300, 100, 100, 100),\n",
       " (400, 100, 100, 100),\n",
       " (0, 200, 100, 100),\n",
       " (100, 200, 100, 100),\n",
       " (200, 200, 100, 100),\n",
       " (300, 200, 100, 100),\n",
       " (400, 200, 100, 100),\n",
       " (0, 300, 100, 100),\n",
       " (100, 300, 100, 100),\n",
       " (200, 300, 100, 100),\n",
       " (300, 300, 100, 100),\n",
       " (400, 300, 100, 100),\n",
       " (0, 400, 100, 100),\n",
       " (100, 400, 100, 100),\n",
       " (200, 400, 100, 100),\n",
       " (300, 400, 100, 100),\n",
       " (400, 400, 100, 100),\n",
       " (0, 500, 100, 100),\n",
       " (100, 500, 100, 100),\n",
       " (200, 500, 100, 100),\n",
       " (300, 500, 100, 100),\n",
       " (400, 500, 100, 100),\n",
       " (0, 600, 100, 100),\n",
       " (100, 600, 100, 100),\n",
       " (200, 600, 100, 100),\n",
       " (300, 600, 100, 100),\n",
       " (400, 600, 100, 100),\n",
       " (0, 700, 100, 100),\n",
       " (100, 700, 100, 100),\n",
       " (200, 700, 100, 100),\n",
       " (300, 700, 100, 100),\n",
       " (400, 700, 100, 100),\n",
       " (0, 800, 100, 100),\n",
       " (100, 800, 100, 100),\n",
       " (200, 800, 100, 100),\n",
       " (300, 800, 100, 100),\n",
       " (400, 800, 100, 100),\n",
       " (0, 900, 100, 100),\n",
       " (100, 900, 100, 100),\n",
       " (200, 900, 100, 100),\n",
       " (300, 900, 100, 100),\n",
       " (400, 900, 100, 100),\n",
       " (0, 1000, 100, 100),\n",
       " (100, 1000, 100, 100),\n",
       " (200, 1000, 100, 100),\n",
       " (300, 1000, 100, 100),\n",
       " (400, 1000, 100, 100),\n",
       " (0, 1100, 100, 100),\n",
       " (100, 1100, 100, 100),\n",
       " (200, 1100, 100, 100),\n",
       " (300, 1100, 100, 100),\n",
       " (400, 1100, 100, 100),\n",
       " (0, 1200, 100, 100)]"
      ]
     },
     "metadata": {},
     "execution_count": 18
    }
   ],
   "source": [
    "load_sprites(data)"
   ]
  },
  {
   "cell_type": "code",
   "execution_count": null,
   "metadata": {},
   "outputs": [],
   "source": []
  }
 ]
}